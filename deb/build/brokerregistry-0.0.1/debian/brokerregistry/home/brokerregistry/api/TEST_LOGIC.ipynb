{
 "cells": [
  {
   "cell_type": "code",
   "execution_count": null,
   "metadata": {},
   "outputs": [],
   "source": [
    "# pip installs c\n",
    "# imports c\n",
    "# response json structure c\n",
    "# : str vs str() declaration c\n",
    "# request responses (crt, key), code c\n",
    "# context validation\n",
    "# issue ca-crt and crt binaries and call in python\n",
    "# structure and information flow\n",
    "# logging path and functionality\n",
    "# properties import\n",
    "# calls to jar files\n",
    "# token validation\n",
    "# pem deserialization\n",
    "# quoting als keys"
   ]
  },
  {
   "cell_type": "code",
   "execution_count": 4,
   "metadata": {},
   "outputs": [],
   "source": [
    "# imports\n",
    "from PROPERTIES import *\n",
    "from flask import Flask, request, make_response, session\n",
    "from flask_wtf.csrf import CSRFProtect\n",
    "from urllib.parse import quote\n",
    "from ssl import SSLContext, PROTOCOL_TLS\n",
    "import ssl, subprocess, logging, random, string, uvicorn, json"
   ]
  },
  {
   "cell_type": "code",
   "execution_count": 5,
   "metadata": {},
   "outputs": [
    {
     "name": "stdout",
     "output_type": "stream",
     "text": [
      "True: bool is bool: True\n",
      "True: bool == bool: True\n",
      "False: bool is bool: False\n",
      "False: bool == bool: False\n",
      "False: bool is str: False\n",
      "False: bool == str: False\n",
      "False: bool is None: False\n",
      "False: bool == None: False\n"
     ]
    }
   ],
   "source": [
    "## CONDITONS\n",
    "# Var Is Var\n",
    "act0: bool = True\n",
    "val0: bool = True\n",
    "val1: bool = False\n",
    "val2: str  = 'str'\n",
    "val3: None = None\n",
    "\n",
    "print('True: bool is bool: ' + str(act0 is val0))\n",
    "print('True: bool == bool: ' + str(act0 == val0))\n",
    "\n",
    "print('False: bool is bool: ' + str(act0 is val1))\n",
    "print('False: bool == bool: ' + str(act0 == val1))\n",
    "\n",
    "print('False: bool is str: ' + str(act0 is val2))\n",
    "print('False: bool == str: ' + str(act0 == val2))\n",
    "\n",
    "print('False: bool is None: ' + str(act0 is val3))\n",
    "print('False: bool == None: ' + str(act0 == val3))"
   ]
  },
  {
   "cell_type": "code",
   "execution_count": 6,
   "metadata": {},
   "outputs": [
    {
     "name": "stdout",
     "output_type": "stream",
     "text": [
      "{'response_code': '200', 'payload': {'alsPrivKey': 'priv', 'alsPubKey': 'pub', 'alsAes': 'aes'}}\n",
      "{\"response_code\": \"200\", \"payload\": {\"alsPrivKey\": \"priv\", \"alsPubKey\": \"pub\", \"alsAes\": \"aes\"}}\n"
     ]
    }
   ],
   "source": [
    "# json response structure\n",
    "from PROPERTIES import JSON_RESPONSE_KEY_ALS_PRIV, JSON_RESPONSE_KEY_ALS_PUB, JSON_RESPONSE_KEY_ALS_AES, JSON_RESPONSE_KEY_CODE, JSON_RESPONSE_KEY_PAYLOAD, HTTP_RESPONSE_CODE_200\n",
    "import json\n",
    "responseDict: dict = {}\n",
    "payloadDict: dict = {}\n",
    "\n",
    "payloadDict[str(JSON_RESPONSE_KEY_ALS_PRIV)] = 'priv'\n",
    "payloadDict[str(JSON_RESPONSE_KEY_ALS_PUB)] = 'pub'\n",
    "payloadDict[str(JSON_RESPONSE_KEY_ALS_AES)] = 'aes'\n",
    "\n",
    "responseDict[str(JSON_RESPONSE_KEY_CODE)] = str(HTTP_RESPONSE_CODE_200)\n",
    "responseDict[str(JSON_RESPONSE_KEY_PAYLOAD)] = payloadDict\n",
    "\n",
    "print(str(responseDict))\n",
    "print(json.dumps(responseDict))"
   ]
  },
  {
   "cell_type": "code",
   "execution_count": null,
   "metadata": {},
   "outputs": [],
   "source": []
  }
 ],
 "metadata": {
  "kernelspec": {
   "display_name": "Python 3",
   "language": "python",
   "name": "python3"
  },
  "language_info": {
   "codemirror_mode": {
    "name": "ipython",
    "version": 3
   },
   "file_extension": ".py",
   "mimetype": "text/x-python",
   "name": "python",
   "nbconvert_exporter": "python",
   "pygments_lexer": "ipython3",
   "version": "3.9.2"
  },
  "orig_nbformat": 4,
  "vscode": {
   "interpreter": {
    "hash": "916dbcbb3f70747c44a77c7bcd40155683ae19c65e1c03b4aa3499c5328201f1"
   }
  }
 },
 "nbformat": 4,
 "nbformat_minor": 2
}
